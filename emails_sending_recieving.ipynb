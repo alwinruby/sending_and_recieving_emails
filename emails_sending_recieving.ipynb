{
 "cells": [
  {
   "cell_type": "code",
   "execution_count": 1,
   "metadata": {},
   "outputs": [],
   "source": [
    "import smtplib\n",
    "from email import encoders\n",
    "from email.mime.text import MIMEText \n",
    "from email.mime.multipart import MIMEMultipart \n",
    "from email.mime.base import MIMEBase \n",
    "from bs4 import BeautifulSoup as bs"
   ]
  },
  {
   "cell_type": "code",
   "execution_count": 2,
   "metadata": {},
   "outputs": [],
   "source": [
    "# Credentials \n",
    "EMAIL = \"myemail@test.com\"\n",
    "PASSWORD = \"mypassword\"\n",
    "\n",
    "FROM = \"sender@test.com\"\n",
    "TO = \"receiver@test.com\"\n",
    "SUBJECT = \"Subject of my email\""
   ]
  },
  {
   "cell_type": "code",
   "execution_count": 3,
   "metadata": {},
   "outputs": [],
   "source": [
    "# initialize our message object, so it is ready to send: \n",
    "msg = MIMEMultipart(\"alternative\")\n",
    "# Setting the ‘from’ property in the message to the FROM email address value we provided earlier: \n",
    "msg[\"From\"] = FROM\n",
    "# Setting the ‘to’ property in the message to the TO email address value we provided earlier:\n",
    "msg[\"To\"] = TO\n",
    "# Setting the ‘subject’ of the message to the SUBJECT value we provided earlier: \n",
    "msg[\"Subject\"] = SUBJECT"
   ]
  },
  {
   "cell_type": "code",
   "execution_count": 4,
   "metadata": {},
   "outputs": [],
   "source": [
    "# HTML version of the message: \n",
    "html = \"\"\" \n",
    "I love <b>Python </b>! \n",
    "\"\"\"\n",
    "\n",
    "#Now let's convert this HTML version to text using HTML parser object: \n",
    "text = bs(html, \"html.parser\").text"
   ]
  },
  {
   "cell_type": "code",
   "execution_count": 5,
   "metadata": {},
   "outputs": [],
   "source": [
    "html = open(\"message.html\").read()\n",
    "text = bs(html, \"html.parser\").text"
   ]
  },
  {
   "cell_type": "code",
   "execution_count": 6,
   "metadata": {},
   "outputs": [],
   "source": [
    "html = open(\"message.html\").read()\n",
    "#And then convert to text the same way as before using html parser:\n",
    "text = bs(html, \"html.parser\").text"
   ]
  },
  {
   "cell_type": "code",
   "execution_count": 7,
   "metadata": {},
   "outputs": [],
   "source": [
    "text_part = MIMEText(text, \"plain\")\n",
    "html_part = MIMEText(html, \"html\")\n",
    "# Finally, we attach the email body to the mail message - both text and HTML versions: \n",
    "msg.attach(text_part)\n",
    "msg.attach(html_part)"
   ]
  },
  {
   "cell_type": "code",
   "execution_count": 8,
   "metadata": {},
   "outputs": [
    {
     "name": "stdout",
     "output_type": "stream",
     "text": [
      "Content-Type: multipart/alternative; boundary=\"===============8073990985363414216==\"\n",
      "MIME-Version: 1.0\n",
      "From: sender@test.com\n",
      "To: receiver@test.com\n",
      "Subject: Subject of my email\n",
      "\n",
      "--===============8073990985363414216==\n",
      "Content-Type: text/plain; charset=\"us-ascii\"\n",
      "MIME-Version: 1.0\n",
      "Content-Transfer-Encoding: 7bit\n",
      "\n",
      "I love Python\n",
      "--===============8073990985363414216==\n",
      "Content-Type: text/html; charset=\"us-ascii\"\n",
      "MIME-Version: 1.0\n",
      "Content-Transfer-Encoding: 7bit\n",
      "\n",
      "<HTML><b>I love Python</b></HTML>\n",
      "--===============8073990985363414216==--\n",
      "\n"
     ]
    }
   ],
   "source": [
    "print(msg.as_string())"
   ]
  },
  {
   "cell_type": "code",
   "execution_count": 9,
   "metadata": {},
   "outputs": [],
   "source": [
    "def send_message (EMAIL, PASSWORD, FROM, TO, msg):\n",
    "    \n",
    "    #Initializing the SMTP server connection: \n",
    "    server = smtplib.SMTP(\"smtp.gmail.com\", 587)\n",
    "    \n",
    "    #Connecting to the SMTP server as secure TLS (Transport Layer Security) mode: \n",
    "    server.starttls()\n",
    "    \n",
    "    #Logging in with your credentials that are passed to the function: \n",
    "    server.login(email, password)\n",
    "    \n",
    "    #Sending the email: \n",
    "    server.sendmail(FROM, TO, msg.as_string())\n",
    "    \n",
    "    #Terminating SMTP session: \n",
    "    server.quit()\n",
    "    "
   ]
  },
  {
   "cell_type": "code",
   "execution_count": 10,
   "metadata": {},
   "outputs": [
    {
     "ename": "NameError",
     "evalue": "name 'email' is not defined",
     "output_type": "error",
     "traceback": [
      "\u001b[0;31m---------------------------------------------------------------------------\u001b[0m",
      "\u001b[0;31mNameError\u001b[0m                                 Traceback (most recent call last)",
      "\u001b[0;32m<ipython-input-10-1b7dd596f0a0>\u001b[0m in \u001b[0;36m<module>\u001b[0;34m\u001b[0m\n\u001b[0;32m----> 1\u001b[0;31m \u001b[0msend_message\u001b[0m\u001b[0;34m(\u001b[0m\u001b[0mEMAIL\u001b[0m\u001b[0;34m,\u001b[0m \u001b[0mPASSWORD\u001b[0m\u001b[0;34m,\u001b[0m \u001b[0mFROM\u001b[0m\u001b[0;34m,\u001b[0m \u001b[0mTO\u001b[0m\u001b[0;34m,\u001b[0m \u001b[0mmsg\u001b[0m\u001b[0;34m)\u001b[0m\u001b[0;34m\u001b[0m\u001b[0;34m\u001b[0m\u001b[0m\n\u001b[0m",
      "\u001b[0;32m<ipython-input-9-5aef1b1ec829>\u001b[0m in \u001b[0;36msend_message\u001b[0;34m(EMAIL, PASSWORD, FROM, TO, msg)\u001b[0m\n\u001b[1;32m      8\u001b[0m \u001b[0;34m\u001b[0m\u001b[0m\n\u001b[1;32m      9\u001b[0m     \u001b[0;31m#Logging in with your credentials that are passed to the function:\u001b[0m\u001b[0;34m\u001b[0m\u001b[0;34m\u001b[0m\u001b[0;34m\u001b[0m\u001b[0m\n\u001b[0;32m---> 10\u001b[0;31m     \u001b[0mserver\u001b[0m\u001b[0;34m.\u001b[0m\u001b[0mlogin\u001b[0m\u001b[0;34m(\u001b[0m\u001b[0memail\u001b[0m\u001b[0;34m,\u001b[0m \u001b[0mpassword\u001b[0m\u001b[0;34m)\u001b[0m\u001b[0;34m\u001b[0m\u001b[0;34m\u001b[0m\u001b[0m\n\u001b[0m\u001b[1;32m     11\u001b[0m \u001b[0;34m\u001b[0m\u001b[0m\n\u001b[1;32m     12\u001b[0m     \u001b[0;31m#Sending the email:\u001b[0m\u001b[0;34m\u001b[0m\u001b[0;34m\u001b[0m\u001b[0;34m\u001b[0m\u001b[0m\n",
      "\u001b[0;31mNameError\u001b[0m: name 'email' is not defined"
     ]
    }
   ],
   "source": [
    "send_message(EMAIL, PASSWORD, FROM, TO, msg)"
   ]
  },
  {
   "cell_type": "code",
   "execution_count": null,
   "metadata": {},
   "outputs": [],
   "source": []
  }
 ],
 "metadata": {
  "kernelspec": {
   "display_name": "Python 3",
   "language": "python",
   "name": "python3"
  },
  "language_info": {
   "codemirror_mode": {
    "name": "ipython",
    "version": 3
   },
   "file_extension": ".py",
   "mimetype": "text/x-python",
   "name": "python",
   "nbconvert_exporter": "python",
   "pygments_lexer": "ipython3",
   "version": "3.8.3"
  }
 },
 "nbformat": 4,
 "nbformat_minor": 4
}
