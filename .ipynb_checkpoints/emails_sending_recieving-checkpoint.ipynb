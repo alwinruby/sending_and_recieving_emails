{
 "cells": [
  {
   "cell_type": "code",
   "execution_count": 1,
   "metadata": {},
   "outputs": [],
   "source": [
    "import smtplib\n",
    "from email import encoders\n",
    "from email.mime.text import MIMEText \n",
    "from email.mime.multipart import MIMEMultipart \n",
    "from email.mime.base import MIMEBase \n",
    "from bs4 import BeautifulSoup as bs"
   ]
  },
  {
   "cell_type": "code",
   "execution_count": 2,
   "metadata": {},
   "outputs": [],
   "source": [
    "# Credentials \n",
    "EMAIL = \"myemail@test.com\"\n",
    "PASSWORD = \"mypassword\"\n",
    "\n",
    "FROM = \"sender@test.com\"\n",
    "TO = \"receiver@test.com\"\n",
    "SUBJECT = \"Subject of my email\""
   ]
  },
  {
   "cell_type": "code",
   "execution_count": 3,
   "metadata": {},
   "outputs": [],
   "source": [
    "# initialize our message object, so it is ready to send: \n",
    "msg = MIMEMultipart(\"alternative\")\n",
    "# Setting the ‘from’ property in the message to the FROM email address value we provided earlier: \n",
    "msg[\"From\"] = FROM\n",
    "# Setting the ‘to’ property in the message to the TO email address value we provided earlier:\n",
    "msg[\"To\"] = TO\n",
    "# Setting the ‘subject’ of the message to the SUBJECT value we provided earlier: \n",
    "msg[\"Subject\"] = SUBJECT"
   ]
  },
  {
   "cell_type": "code",
   "execution_count": 4,
   "metadata": {},
   "outputs": [],
   "source": [
    "# HTML version of the message: \n",
    "html = \"\"\" \n",
    "I love <b>Python </b>! \n",
    "\"\"\"\n",
    "\n",
    "#Now let's convert this HTML version to text using HTML parser object: \n",
    "text = bs(html, \"html.parser\").text"
   ]
  },
  {
   "cell_type": "code",
   "execution_count": 5,
   "metadata": {},
   "outputs": [],
   "source": [
    "html = open(\"message.html\").read()\n",
    "text = bs(html, \"html.parser\").text"
   ]
  },
  {
   "cell_type": "code",
   "execution_count": 6,
   "metadata": {},
   "outputs": [],
   "source": [
    "html = open(\"message.html\").read()\n",
    "#And then convert to text the same way as before using html parser:\n",
    "text = bs(html, \"html.parser\").text"
   ]
  },
  {
   "cell_type": "code",
   "execution_count": 7,
   "metadata": {},
   "outputs": [],
   "source": [
    "text_part = MIMEText(text, \"plain\")\n",
    "html_part = MIMEText(html, \"html\")\n",
    "# Finally, we attach the email body to the mail message - both text and HTML versions: \n",
    "msg.attach(text_part)\n",
    "msg.attach(html_part)"
   ]
  },
  {
   "cell_type": "code",
   "execution_count": 8,
   "metadata": {},
   "outputs": [
    {
     "name": "stdout",
     "output_type": "stream",
     "text": [
      "Content-Type: multipart/alternative; boundary=\"===============6047034002967086698==\"\n",
      "MIME-Version: 1.0\n",
      "From: sender@test.com\n",
      "To: receiver@test.com\n",
      "Subject: Subject of my email\n",
      "\n",
      "--===============6047034002967086698==\n",
      "Content-Type: text/plain; charset=\"us-ascii\"\n",
      "MIME-Version: 1.0\n",
      "Content-Transfer-Encoding: 7bit\n",
      "\n",
      "I love Python\n",
      "--===============6047034002967086698==\n",
      "Content-Type: text/html; charset=\"us-ascii\"\n",
      "MIME-Version: 1.0\n",
      "Content-Transfer-Encoding: 7bit\n",
      "\n",
      "<HTML><b>I love Python</b></HTML>\n",
      "--===============6047034002967086698==--\n",
      "\n"
     ]
    }
   ],
   "source": [
    "print(msg.as_string())"
   ]
  },
  {
   "cell_type": "code",
   "execution_count": 9,
   "metadata": {},
   "outputs": [],
   "source": [
    "def send_message (EMAIL, PASSWORD, FROM, TO, msg):\n",
    "    \n",
    "    #Initializing the SMTP server connection: \n",
    "    server = smtplib.SMTP(\"smtp.gmail.com\", 587)\n",
    "    \n",
    "    #Connecting to the SMTP server as secure TLS (Transport Layer Security) mode: \n",
    "    server.starttls()\n",
    "    \n",
    "    #Logging in with your credentials that are passed to the function: \n",
    "    server.login(email, password)\n",
    "    \n",
    "    #Sending the email: \n",
    "    server.sendmail(FROM, TO, msg.as_string())\n",
    "    \n",
    "    #Terminating SMTP session: \n",
    "    server.quit()\n",
    "    "
   ]
  },
  {
   "cell_type": "code",
   "execution_count": 10,
   "metadata": {},
   "outputs": [
    {
     "ename": "NameError",
     "evalue": "name 'email' is not defined",
     "output_type": "error",
     "traceback": [
      "\u001b[0;31m---------------------------------------------------------------------------\u001b[0m",
      "\u001b[0;31mNameError\u001b[0m                                 Traceback (most recent call last)",
      "\u001b[0;32m<ipython-input-10-f6f511ea1f77>\u001b[0m in \u001b[0;36m<module>\u001b[0;34m\u001b[0m\n\u001b[0;32m----> 1\u001b[0;31m \u001b[0msend_message\u001b[0m\u001b[0;34m(\u001b[0m\u001b[0mEMAIL\u001b[0m\u001b[0;34m,\u001b[0m \u001b[0mPASSWORD\u001b[0m \u001b[0;34m,\u001b[0m \u001b[0mFROM\u001b[0m\u001b[0;34m,\u001b[0m \u001b[0mTO\u001b[0m\u001b[0;34m,\u001b[0m \u001b[0mmsg\u001b[0m\u001b[0;34m)\u001b[0m\u001b[0;34m\u001b[0m\u001b[0;34m\u001b[0m\u001b[0m\n\u001b[0m",
      "\u001b[0;32m<ipython-input-9-5aef1b1ec829>\u001b[0m in \u001b[0;36msend_message\u001b[0;34m(EMAIL, PASSWORD, FROM, TO, msg)\u001b[0m\n\u001b[1;32m      8\u001b[0m \u001b[0;34m\u001b[0m\u001b[0m\n\u001b[1;32m      9\u001b[0m     \u001b[0;31m#Logging in with your credentials that are passed to the function:\u001b[0m\u001b[0;34m\u001b[0m\u001b[0;34m\u001b[0m\u001b[0;34m\u001b[0m\u001b[0m\n\u001b[0;32m---> 10\u001b[0;31m     \u001b[0mserver\u001b[0m\u001b[0;34m.\u001b[0m\u001b[0mlogin\u001b[0m\u001b[0;34m(\u001b[0m\u001b[0memail\u001b[0m\u001b[0;34m,\u001b[0m \u001b[0mpassword\u001b[0m\u001b[0;34m)\u001b[0m\u001b[0;34m\u001b[0m\u001b[0;34m\u001b[0m\u001b[0m\n\u001b[0m\u001b[1;32m     11\u001b[0m \u001b[0;34m\u001b[0m\u001b[0m\n\u001b[1;32m     12\u001b[0m     \u001b[0;31m#Sending the email:\u001b[0m\u001b[0;34m\u001b[0m\u001b[0;34m\u001b[0m\u001b[0;34m\u001b[0m\u001b[0m\n",
      "\u001b[0;31mNameError\u001b[0m: name 'email' is not defined"
     ]
    }
   ],
   "source": [
    "send_message(EMAIL, PASSWORD , FROM, TO, msg)"
   ]
  },
  {
   "cell_type": "code",
   "execution_count": 11,
   "metadata": {},
   "outputs": [
    {
     "ename": "FileNotFoundError",
     "evalue": "[Errno 2] No such file or directory: 'test.txt'",
     "output_type": "error",
     "traceback": [
      "\u001b[0;31m---------------------------------------------------------------------------\u001b[0m",
      "\u001b[0;31mFileNotFoundError\u001b[0m                         Traceback (most recent call last)",
      "\u001b[0;32m<ipython-input-11-d453d547d68f>\u001b[0m in \u001b[0;36m<module>\u001b[0;34m\u001b[0m\n\u001b[1;32m     27\u001b[0m \u001b[0;34m\u001b[0m\u001b[0m\n\u001b[1;32m     28\u001b[0m     \u001b[0;31m#Creating this loop to read the file list created earlier and going through them one at a time:\u001b[0m\u001b[0;34m\u001b[0m\u001b[0;34m\u001b[0m\u001b[0;34m\u001b[0m\u001b[0m\n\u001b[0;32m---> 29\u001b[0;31m     \u001b[0;32mwith\u001b[0m \u001b[0mopen\u001b[0m\u001b[0;34m(\u001b[0m\u001b[0mfile\u001b[0m\u001b[0;34m,\u001b[0m \u001b[0;34m\"rb\"\u001b[0m\u001b[0;34m)\u001b[0m \u001b[0;32mas\u001b[0m \u001b[0mf\u001b[0m\u001b[0;34m:\u001b[0m\u001b[0;34m\u001b[0m\u001b[0;34m\u001b[0m\u001b[0m\n\u001b[0m\u001b[1;32m     30\u001b[0m \u001b[0;34m\u001b[0m\u001b[0m\n\u001b[1;32m     31\u001b[0m         \u001b[0;31m#Read each file in the list:\u001b[0m\u001b[0;34m\u001b[0m\u001b[0;34m\u001b[0m\u001b[0;34m\u001b[0m\u001b[0m\n",
      "\u001b[0;31mFileNotFoundError\u001b[0m: [Errno 2] No such file or directory: 'test.txt'"
     ]
    }
   ],
   "source": [
    "files_to_send = [ \"test.txt\", \"test.pdf\", ] \n",
    "\n",
    "#Initializing the message as before: \n",
    "msg = MIMEMultipart(\"alternative\") \n",
    "\n",
    "#Setting the sender's email: \n",
    "msg[\"From\"] = FROM \n",
    "\n",
    "#Setting the recipient's email: \n",
    "msg[\"To\"] = TO \n",
    "\n",
    "#Setting the subject of the email: \n",
    "msg[\"Subject\"] = SUBJECT\n",
    "\n",
    "#Setting the body of the message: \n",
    "html = open(\"message.html\").read() \n",
    "\n",
    "#Converting the message from HTML to text as before: \n",
    "text = bs(html, \"html.parser\").text \n",
    "text_part = MIMEText(text, \"plain\") \n",
    "html_part = MIMEText(html, \"html\") \n",
    "\n",
    "#Attaching the email body to the mail message. First adding text and then HTML to the body: \n",
    "msg.attach(text_part) \n",
    "msg.attach(html_part) \n",
    "for file in files_to_send: \n",
    "    \n",
    "    #Creating this loop to read the file list created earlier and going through them one at a time: \n",
    "    with open(file, \"rb\") as f: \n",
    "        \n",
    "        #Read each file in the list: \n",
    "        data = f.read() \n",
    "        \n",
    "        #Add as attachment to the file: \n",
    "        attach_part = MIMEBase(\"application\", \"octet-stream\") \n",
    "        attach_part.set_payload(data) \n",
    "        \n",
    "        #Add 64 bit encoding \n",
    "        encoders.encode_base64(attach_part) \n",
    "        \n",
    "        #Including message header\n",
    "        attach_part.add_header(\"Content-Disposition\", f\"attachment; filename= {file}\") \n",
    "        msg.attach(attach_part) \n",
    "        \n",
    "#Finally sending the message \n",
    "send_mail(email, password, FROM, TO, msg)\n",
    "        "
   ]
  },
  {
   "cell_type": "code",
   "execution_count": 13,
   "metadata": {},
   "outputs": [],
   "source": [
    "import imaplib \n",
    "import email \n",
    "from email.header import decode_header\n",
    "import webbrowser \n",
    "import os"
   ]
  },
  {
   "cell_type": "code",
   "execution_count": 1,
   "metadata": {},
   "outputs": [],
   "source": [
    "# Credentials \n",
    "EMAIL = \"myemail@test.com\"\n",
    "PASSWORD = \"mypassword\"\n",
    "\n",
    "def clean(text):\n",
    "    return \"\".join(c if c.isalnum() else \"_\" for c in text)"
   ]
  },
  {
   "cell_type": "code",
   "execution_count": null,
   "metadata": {},
   "outputs": [],
   "source": []
  }
 ],
 "metadata": {
  "kernelspec": {
   "display_name": "Python 3",
   "language": "python",
   "name": "python3"
  },
  "language_info": {
   "codemirror_mode": {
    "name": "ipython",
    "version": 3
   },
   "file_extension": ".py",
   "mimetype": "text/x-python",
   "name": "python",
   "nbconvert_exporter": "python",
   "pygments_lexer": "ipython3",
   "version": "3.8.3"
  }
 },
 "nbformat": 4,
 "nbformat_minor": 4
}
