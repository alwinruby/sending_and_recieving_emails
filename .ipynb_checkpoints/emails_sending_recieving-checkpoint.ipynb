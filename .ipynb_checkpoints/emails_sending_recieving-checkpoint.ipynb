{
 "cells": [
  {
   "cell_type": "code",
   "execution_count": 1,
   "metadata": {},
   "outputs": [],
   "source": [
    "import smtplib\n",
    "from email import encoders\n",
    "from email.mime.text import MIMEText \n",
    "from email.mime.multipart import MIMEMultipart \n",
    "from email.mime.base import MIMEBase \n",
    "from bs4 import BeautifulSoup as bs"
   ]
  },
  {
   "cell_type": "code",
   "execution_count": 2,
   "metadata": {},
   "outputs": [],
   "source": [
    "# Credentials \n",
    "EMAIL = \"myemail@test.com\"\n",
    "PASSWORD = \"mypassword\"\n",
    "\n",
    "FROM = \"sender@test.com\"\n",
    "TO = \"receiver@test.com\"\n",
    "SUBJECT = \"Subject of my email\""
   ]
  },
  {
   "cell_type": "code",
   "execution_count": 3,
   "metadata": {},
   "outputs": [],
   "source": [
    "# initialize our message object, so it is ready to send: \n",
    "msg = MIMEMultipart(\"alternative\")\n",
    "# Setting the ‘from’ property in the message to the FROM email address value we provided earlier: \n",
    "msg[\"From\"] = FROM\n",
    "# Setting the ‘to’ property in the message to the TO email address value we provided earlier:\n",
    "msg[\"To\"] = TO\n",
    "# Setting the ‘subject’ of the message to the SUBJECT value we provided earlier: \n",
    "msg[\"Subject\"] = SUBJECT"
   ]
  },
  {
   "cell_type": "code",
   "execution_count": 4,
   "metadata": {},
   "outputs": [],
   "source": [
    "# HTML version of the message: \n",
    "html = \"\"\" \n",
    "I love <b>Python </b>! \n",
    "\"\"\"\n",
    "\n",
    "#Now let's convert this HTML version to text using HTML parser object: \n",
    "text = bs(html, \"html.parser\").text"
   ]
  },
  {
   "cell_type": "code",
   "execution_count": 5,
   "metadata": {},
   "outputs": [],
   "source": [
    "html = open(\"message.html\").read()\n",
    "text = bs(html, \"html.parser\").text"
   ]
  },
  {
   "cell_type": "code",
   "execution_count": 6,
   "metadata": {},
   "outputs": [],
   "source": [
    "html = open(\"message.html\").read()\n",
    "#And then convert to text the same way as before using html parser:\n",
    "text = bs(html, \"html.parser\").text"
   ]
  },
  {
   "cell_type": "code",
   "execution_count": 7,
   "metadata": {},
   "outputs": [],
   "source": [
    "text_part = MIMEText(text, \"plain\")\n",
    "html_part = MIMEText(html, \"html\")\n",
    "# Finally, we attach the email body to the mail message - both text and HTML versions: \n",
    "msg.attach(text_part)\n",
    "msg.attach(html_part)"
   ]
  },
  {
   "cell_type": "code",
   "execution_count": 8,
   "metadata": {},
   "outputs": [
    {
     "name": "stdout",
     "output_type": "stream",
     "text": [
      "Content-Type: multipart/alternative; boundary=\"===============6048420369435495678==\"\n",
      "MIME-Version: 1.0\n",
      "From: sender@test.com\n",
      "To: receiver@test.com\n",
      "Subject: Subject of my email\n",
      "\n",
      "--===============6048420369435495678==\n",
      "Content-Type: text/plain; charset=\"us-ascii\"\n",
      "MIME-Version: 1.0\n",
      "Content-Transfer-Encoding: 7bit\n",
      "\n",
      "I love Python\n",
      "--===============6048420369435495678==\n",
      "Content-Type: text/html; charset=\"us-ascii\"\n",
      "MIME-Version: 1.0\n",
      "Content-Transfer-Encoding: 7bit\n",
      "\n",
      "<HTML><b>I love Python</b></HTML>\n",
      "--===============6048420369435495678==--\n",
      "\n"
     ]
    }
   ],
   "source": [
    "print(msg.as_string())"
   ]
  },
  {
   "cell_type": "code",
   "execution_count": 9,
   "metadata": {},
   "outputs": [],
   "source": [
    "def send_message (EMAIL, PASSWORD, FROM, TO, msg):\n",
    "    \n",
    "    #Initializing the SMTP server connection: \n",
    "    server = smtplib.SMTP(\"smtp.gmail.com\", 587)\n",
    "    \n",
    "    #Connecting to the SMTP server as secure TLS (Transport Layer Security) mode: \n",
    "    server.starttls()\n",
    "    \n",
    "    #Logging in with your credentials that are passed to the function: \n",
    "    server.login(email, password)\n",
    "    \n",
    "    #Sending the email: \n",
    "    server.sendmail(FROM, TO, msg.as_string())\n",
    "    \n",
    "    #Terminating SMTP session: \n",
    "    server.quit()\n",
    "    "
   ]
  },
  {
   "cell_type": "code",
   "execution_count": 10,
   "metadata": {},
   "outputs": [
    {
     "ename": "NameError",
     "evalue": "name 'email' is not defined",
     "output_type": "error",
     "traceback": [
      "\u001b[0;31m---------------------------------------------------------------------------\u001b[0m",
      "\u001b[0;31mNameError\u001b[0m                                 Traceback (most recent call last)",
      "\u001b[0;32m<ipython-input-10-f6f511ea1f77>\u001b[0m in \u001b[0;36m<module>\u001b[0;34m\u001b[0m\n\u001b[0;32m----> 1\u001b[0;31m \u001b[0msend_message\u001b[0m\u001b[0;34m(\u001b[0m\u001b[0mEMAIL\u001b[0m\u001b[0;34m,\u001b[0m \u001b[0mPASSWORD\u001b[0m \u001b[0;34m,\u001b[0m \u001b[0mFROM\u001b[0m\u001b[0;34m,\u001b[0m \u001b[0mTO\u001b[0m\u001b[0;34m,\u001b[0m \u001b[0mmsg\u001b[0m\u001b[0;34m)\u001b[0m\u001b[0;34m\u001b[0m\u001b[0;34m\u001b[0m\u001b[0m\n\u001b[0m",
      "\u001b[0;32m<ipython-input-9-5aef1b1ec829>\u001b[0m in \u001b[0;36msend_message\u001b[0;34m(EMAIL, PASSWORD, FROM, TO, msg)\u001b[0m\n\u001b[1;32m      8\u001b[0m \u001b[0;34m\u001b[0m\u001b[0m\n\u001b[1;32m      9\u001b[0m     \u001b[0;31m#Logging in with your credentials that are passed to the function:\u001b[0m\u001b[0;34m\u001b[0m\u001b[0;34m\u001b[0m\u001b[0;34m\u001b[0m\u001b[0m\n\u001b[0;32m---> 10\u001b[0;31m     \u001b[0mserver\u001b[0m\u001b[0;34m.\u001b[0m\u001b[0mlogin\u001b[0m\u001b[0;34m(\u001b[0m\u001b[0memail\u001b[0m\u001b[0;34m,\u001b[0m \u001b[0mpassword\u001b[0m\u001b[0;34m)\u001b[0m\u001b[0;34m\u001b[0m\u001b[0;34m\u001b[0m\u001b[0m\n\u001b[0m\u001b[1;32m     11\u001b[0m \u001b[0;34m\u001b[0m\u001b[0m\n\u001b[1;32m     12\u001b[0m     \u001b[0;31m#Sending the email:\u001b[0m\u001b[0;34m\u001b[0m\u001b[0;34m\u001b[0m\u001b[0;34m\u001b[0m\u001b[0m\n",
      "\u001b[0;31mNameError\u001b[0m: name 'email' is not defined"
     ]
    }
   ],
   "source": [
    "send_message(EMAIL, PASSWORD , FROM, TO, msg)"
   ]
  },
  {
   "cell_type": "code",
   "execution_count": 11,
   "metadata": {},
   "outputs": [
    {
     "ename": "FileNotFoundError",
     "evalue": "[Errno 2] No such file or directory: 'test.txt'",
     "output_type": "error",
     "traceback": [
      "\u001b[0;31m---------------------------------------------------------------------------\u001b[0m",
      "\u001b[0;31mFileNotFoundError\u001b[0m                         Traceback (most recent call last)",
      "\u001b[0;32m<ipython-input-11-d453d547d68f>\u001b[0m in \u001b[0;36m<module>\u001b[0;34m\u001b[0m\n\u001b[1;32m     27\u001b[0m \u001b[0;34m\u001b[0m\u001b[0m\n\u001b[1;32m     28\u001b[0m     \u001b[0;31m#Creating this loop to read the file list created earlier and going through them one at a time:\u001b[0m\u001b[0;34m\u001b[0m\u001b[0;34m\u001b[0m\u001b[0;34m\u001b[0m\u001b[0m\n\u001b[0;32m---> 29\u001b[0;31m     \u001b[0;32mwith\u001b[0m \u001b[0mopen\u001b[0m\u001b[0;34m(\u001b[0m\u001b[0mfile\u001b[0m\u001b[0;34m,\u001b[0m \u001b[0;34m\"rb\"\u001b[0m\u001b[0;34m)\u001b[0m \u001b[0;32mas\u001b[0m \u001b[0mf\u001b[0m\u001b[0;34m:\u001b[0m\u001b[0;34m\u001b[0m\u001b[0;34m\u001b[0m\u001b[0m\n\u001b[0m\u001b[1;32m     30\u001b[0m \u001b[0;34m\u001b[0m\u001b[0m\n\u001b[1;32m     31\u001b[0m         \u001b[0;31m#Read each file in the list:\u001b[0m\u001b[0;34m\u001b[0m\u001b[0;34m\u001b[0m\u001b[0;34m\u001b[0m\u001b[0m\n",
      "\u001b[0;31mFileNotFoundError\u001b[0m: [Errno 2] No such file or directory: 'test.txt'"
     ]
    }
   ],
   "source": [
    "files_to_send = [ \"test.txt\", \"test.pdf\", ] \n",
    "\n",
    "#Initializing the message as before: \n",
    "msg = MIMEMultipart(\"alternative\") \n",
    "\n",
    "#Setting the sender's email: \n",
    "msg[\"From\"] = FROM \n",
    "\n",
    "#Setting the recipient's email: \n",
    "msg[\"To\"] = TO \n",
    "\n",
    "#Setting the subject of the email: \n",
    "msg[\"Subject\"] = SUBJECT\n",
    "\n",
    "#Setting the body of the message: \n",
    "html = open(\"message.html\").read() \n",
    "\n",
    "#Converting the message from HTML to text as before: \n",
    "text = bs(html, \"html.parser\").text \n",
    "text_part = MIMEText(text, \"plain\") \n",
    "html_part = MIMEText(html, \"html\") \n",
    "\n",
    "#Attaching the email body to the mail message. First adding text and then HTML to the body: \n",
    "msg.attach(text_part) \n",
    "msg.attach(html_part) \n",
    "for file in files_to_send: \n",
    "    \n",
    "    #Creating this loop to read the file list created earlier and going through them one at a time: \n",
    "    with open(file, \"rb\") as f: \n",
    "        \n",
    "        #Read each file in the list: \n",
    "        data = f.read() \n",
    "        \n",
    "        #Add as attachment to the file: \n",
    "        attach_part = MIMEBase(\"application\", \"octet-stream\") \n",
    "        attach_part.set_payload(data) \n",
    "        \n",
    "        #Add 64 bit encoding \n",
    "        encoders.encode_base64(attach_part) \n",
    "        \n",
    "        #Including message header\n",
    "        attach_part.add_header(\"Content-Disposition\", f\"attachment; filename= {file}\") \n",
    "        msg.attach(attach_part) \n",
    "        \n",
    "#Finally sending the message \n",
    "send_mail(email, password, FROM, TO, msg)\n",
    "        "
   ]
  },
  {
   "cell_type": "code",
   "execution_count": 12,
   "metadata": {},
   "outputs": [],
   "source": [
    "import imaplib \n",
    "import email \n",
    "from email.header import decode_header\n",
    "import webbrowser \n",
    "import os"
   ]
  },
  {
   "cell_type": "code",
   "execution_count": 13,
   "metadata": {},
   "outputs": [],
   "source": [
    "# Credentials \n",
    "EMAIL = \"myemail@test.com\"\n",
    "PASSWORD = \"mypassword\"\n",
    "\n",
    "def clean(text):\n",
    "    return \"\".join(c if c.isalnum() else \"_\" for c in text)"
   ]
  },
  {
   "cell_type": "code",
   "execution_count": 14,
   "metadata": {},
   "outputs": [
    {
     "ename": "error",
     "evalue": "b'[AUTHENTICATIONFAILED] Invalid credentials (Failure)'",
     "output_type": "error",
     "traceback": [
      "\u001b[0;31m---------------------------------------------------------------------------\u001b[0m",
      "\u001b[0;31merror\u001b[0m                                     Traceback (most recent call last)",
      "\u001b[0;32m<ipython-input-14-681d5470f9f6>\u001b[0m in \u001b[0;36m<module>\u001b[0;34m\u001b[0m\n\u001b[1;32m      1\u001b[0m \u001b[0mimap\u001b[0m \u001b[0;34m=\u001b[0m \u001b[0mimaplib\u001b[0m\u001b[0;34m.\u001b[0m\u001b[0mIMAP4_SSL\u001b[0m\u001b[0;34m(\u001b[0m\u001b[0;34m\"imap.gmail.com\"\u001b[0m\u001b[0;34m)\u001b[0m\u001b[0;34m\u001b[0m\u001b[0;34m\u001b[0m\u001b[0m\n\u001b[0;32m----> 2\u001b[0;31m \u001b[0mimap\u001b[0m\u001b[0;34m.\u001b[0m\u001b[0mlogin\u001b[0m\u001b[0;34m(\u001b[0m\u001b[0mEMAIL\u001b[0m\u001b[0;34m,\u001b[0m \u001b[0mPASSWORD\u001b[0m\u001b[0;34m)\u001b[0m\u001b[0;34m\u001b[0m\u001b[0;34m\u001b[0m\u001b[0m\n\u001b[0m",
      "\u001b[0;32m/opt/anaconda3/lib/python3.8/imaplib.py\u001b[0m in \u001b[0;36mlogin\u001b[0;34m(self, user, password)\u001b[0m\n\u001b[1;32m    601\u001b[0m         \u001b[0mtyp\u001b[0m\u001b[0;34m,\u001b[0m \u001b[0mdat\u001b[0m \u001b[0;34m=\u001b[0m \u001b[0mself\u001b[0m\u001b[0;34m.\u001b[0m\u001b[0m_simple_command\u001b[0m\u001b[0;34m(\u001b[0m\u001b[0;34m'LOGIN'\u001b[0m\u001b[0;34m,\u001b[0m \u001b[0muser\u001b[0m\u001b[0;34m,\u001b[0m \u001b[0mself\u001b[0m\u001b[0;34m.\u001b[0m\u001b[0m_quote\u001b[0m\u001b[0;34m(\u001b[0m\u001b[0mpassword\u001b[0m\u001b[0;34m)\u001b[0m\u001b[0;34m)\u001b[0m\u001b[0;34m\u001b[0m\u001b[0;34m\u001b[0m\u001b[0m\n\u001b[1;32m    602\u001b[0m         \u001b[0;32mif\u001b[0m \u001b[0mtyp\u001b[0m \u001b[0;34m!=\u001b[0m \u001b[0;34m'OK'\u001b[0m\u001b[0;34m:\u001b[0m\u001b[0;34m\u001b[0m\u001b[0;34m\u001b[0m\u001b[0m\n\u001b[0;32m--> 603\u001b[0;31m             \u001b[0;32mraise\u001b[0m \u001b[0mself\u001b[0m\u001b[0;34m.\u001b[0m\u001b[0merror\u001b[0m\u001b[0;34m(\u001b[0m\u001b[0mdat\u001b[0m\u001b[0;34m[\u001b[0m\u001b[0;34m-\u001b[0m\u001b[0;36m1\u001b[0m\u001b[0;34m]\u001b[0m\u001b[0;34m)\u001b[0m\u001b[0;34m\u001b[0m\u001b[0;34m\u001b[0m\u001b[0m\n\u001b[0m\u001b[1;32m    604\u001b[0m         \u001b[0mself\u001b[0m\u001b[0;34m.\u001b[0m\u001b[0mstate\u001b[0m \u001b[0;34m=\u001b[0m \u001b[0;34m'AUTH'\u001b[0m\u001b[0;34m\u001b[0m\u001b[0;34m\u001b[0m\u001b[0m\n\u001b[1;32m    605\u001b[0m         \u001b[0;32mreturn\u001b[0m \u001b[0mtyp\u001b[0m\u001b[0;34m,\u001b[0m \u001b[0mdat\u001b[0m\u001b[0;34m\u001b[0m\u001b[0;34m\u001b[0m\u001b[0m\n",
      "\u001b[0;31merror\u001b[0m: b'[AUTHENTICATIONFAILED] Invalid credentials (Failure)'"
     ]
    }
   ],
   "source": [
    "imap = imaplib.IMAP4_SSL(\"imap.gmail.com\")\n",
    "imap.login(EMAIL, PASSWORD)"
   ]
  },
  {
   "cell_type": "code",
   "execution_count": 15,
   "metadata": {},
   "outputs": [
    {
     "ename": "error",
     "evalue": "command SELECT illegal in state NONAUTH, only allowed in states AUTH, SELECTED",
     "output_type": "error",
     "traceback": [
      "\u001b[0;31m---------------------------------------------------------------------------\u001b[0m",
      "\u001b[0;31merror\u001b[0m                                     Traceback (most recent call last)",
      "\u001b[0;32m<ipython-input-15-569a9c0a855d>\u001b[0m in \u001b[0;36m<module>\u001b[0;34m\u001b[0m\n\u001b[0;32m----> 1\u001b[0;31m \u001b[0mstatus\u001b[0m\u001b[0;34m,\u001b[0m \u001b[0mmessages\u001b[0m \u001b[0;34m=\u001b[0m \u001b[0mimap\u001b[0m\u001b[0;34m.\u001b[0m\u001b[0mselect\u001b[0m\u001b[0;34m(\u001b[0m\u001b[0;34m\"INBOX\"\u001b[0m\u001b[0;34m)\u001b[0m\u001b[0;34m\u001b[0m\u001b[0;34m\u001b[0m\u001b[0m\n\u001b[0m\u001b[1;32m      2\u001b[0m \u001b[0;31m#Indicating number of top emails to fetch:\u001b[0m\u001b[0;34m\u001b[0m\u001b[0;34m\u001b[0m\u001b[0;34m\u001b[0m\u001b[0m\n\u001b[1;32m      3\u001b[0m \u001b[0mN\u001b[0m \u001b[0;34m=\u001b[0m \u001b[0;36m5\u001b[0m\u001b[0;34m\u001b[0m\u001b[0;34m\u001b[0m\u001b[0m\n\u001b[1;32m      4\u001b[0m \u001b[0;31m#Converting total number of emails in the inbox to integer value:\u001b[0m\u001b[0;34m\u001b[0m\u001b[0;34m\u001b[0m\u001b[0;34m\u001b[0m\u001b[0m\n\u001b[1;32m      5\u001b[0m \u001b[0mmessages\u001b[0m \u001b[0;34m=\u001b[0m \u001b[0mint\u001b[0m\u001b[0;34m(\u001b[0m\u001b[0mmessages\u001b[0m\u001b[0;34m[\u001b[0m\u001b[0;36m0\u001b[0m\u001b[0;34m]\u001b[0m\u001b[0;34m)\u001b[0m\u001b[0;34m\u001b[0m\u001b[0;34m\u001b[0m\u001b[0m\n",
      "\u001b[0;32m/opt/anaconda3/lib/python3.8/imaplib.py\u001b[0m in \u001b[0;36mselect\u001b[0;34m(self, mailbox, readonly)\u001b[0m\n\u001b[1;32m    745\u001b[0m         \u001b[0;32melse\u001b[0m\u001b[0;34m:\u001b[0m\u001b[0;34m\u001b[0m\u001b[0;34m\u001b[0m\u001b[0m\n\u001b[1;32m    746\u001b[0m             \u001b[0mname\u001b[0m \u001b[0;34m=\u001b[0m \u001b[0;34m'SELECT'\u001b[0m\u001b[0;34m\u001b[0m\u001b[0;34m\u001b[0m\u001b[0m\n\u001b[0;32m--> 747\u001b[0;31m         \u001b[0mtyp\u001b[0m\u001b[0;34m,\u001b[0m \u001b[0mdat\u001b[0m \u001b[0;34m=\u001b[0m \u001b[0mself\u001b[0m\u001b[0;34m.\u001b[0m\u001b[0m_simple_command\u001b[0m\u001b[0;34m(\u001b[0m\u001b[0mname\u001b[0m\u001b[0;34m,\u001b[0m \u001b[0mmailbox\u001b[0m\u001b[0;34m)\u001b[0m\u001b[0;34m\u001b[0m\u001b[0;34m\u001b[0m\u001b[0m\n\u001b[0m\u001b[1;32m    748\u001b[0m         \u001b[0;32mif\u001b[0m \u001b[0mtyp\u001b[0m \u001b[0;34m!=\u001b[0m \u001b[0;34m'OK'\u001b[0m\u001b[0;34m:\u001b[0m\u001b[0;34m\u001b[0m\u001b[0;34m\u001b[0m\u001b[0m\n\u001b[1;32m    749\u001b[0m             \u001b[0mself\u001b[0m\u001b[0;34m.\u001b[0m\u001b[0mstate\u001b[0m \u001b[0;34m=\u001b[0m \u001b[0;34m'AUTH'\u001b[0m     \u001b[0;31m# Might have been 'SELECTED'\u001b[0m\u001b[0;34m\u001b[0m\u001b[0;34m\u001b[0m\u001b[0m\n",
      "\u001b[0;32m/opt/anaconda3/lib/python3.8/imaplib.py\u001b[0m in \u001b[0;36m_simple_command\u001b[0;34m(self, name, *args)\u001b[0m\n\u001b[1;32m   1203\u001b[0m     \u001b[0;32mdef\u001b[0m \u001b[0m_simple_command\u001b[0m\u001b[0;34m(\u001b[0m\u001b[0mself\u001b[0m\u001b[0;34m,\u001b[0m \u001b[0mname\u001b[0m\u001b[0;34m,\u001b[0m \u001b[0;34m*\u001b[0m\u001b[0margs\u001b[0m\u001b[0;34m)\u001b[0m\u001b[0;34m:\u001b[0m\u001b[0;34m\u001b[0m\u001b[0;34m\u001b[0m\u001b[0m\n\u001b[1;32m   1204\u001b[0m \u001b[0;34m\u001b[0m\u001b[0m\n\u001b[0;32m-> 1205\u001b[0;31m         \u001b[0;32mreturn\u001b[0m \u001b[0mself\u001b[0m\u001b[0;34m.\u001b[0m\u001b[0m_command_complete\u001b[0m\u001b[0;34m(\u001b[0m\u001b[0mname\u001b[0m\u001b[0;34m,\u001b[0m \u001b[0mself\u001b[0m\u001b[0;34m.\u001b[0m\u001b[0m_command\u001b[0m\u001b[0;34m(\u001b[0m\u001b[0mname\u001b[0m\u001b[0;34m,\u001b[0m \u001b[0;34m*\u001b[0m\u001b[0margs\u001b[0m\u001b[0;34m)\u001b[0m\u001b[0;34m)\u001b[0m\u001b[0;34m\u001b[0m\u001b[0;34m\u001b[0m\u001b[0m\n\u001b[0m\u001b[1;32m   1206\u001b[0m \u001b[0;34m\u001b[0m\u001b[0m\n\u001b[1;32m   1207\u001b[0m \u001b[0;34m\u001b[0m\u001b[0m\n",
      "\u001b[0;32m/opt/anaconda3/lib/python3.8/imaplib.py\u001b[0m in \u001b[0;36m_command\u001b[0;34m(self, name, *args)\u001b[0m\n\u001b[1;32m    941\u001b[0m         \u001b[0;32mif\u001b[0m \u001b[0mself\u001b[0m\u001b[0;34m.\u001b[0m\u001b[0mstate\u001b[0m \u001b[0;32mnot\u001b[0m \u001b[0;32min\u001b[0m \u001b[0mCommands\u001b[0m\u001b[0;34m[\u001b[0m\u001b[0mname\u001b[0m\u001b[0;34m]\u001b[0m\u001b[0;34m:\u001b[0m\u001b[0;34m\u001b[0m\u001b[0;34m\u001b[0m\u001b[0m\n\u001b[1;32m    942\u001b[0m             \u001b[0mself\u001b[0m\u001b[0;34m.\u001b[0m\u001b[0mliteral\u001b[0m \u001b[0;34m=\u001b[0m \u001b[0;32mNone\u001b[0m\u001b[0;34m\u001b[0m\u001b[0;34m\u001b[0m\u001b[0m\n\u001b[0;32m--> 943\u001b[0;31m             raise self.error(\"command %s illegal in state %s, \"\n\u001b[0m\u001b[1;32m    944\u001b[0m                              \u001b[0;34m\"only allowed in states %s\"\u001b[0m \u001b[0;34m%\u001b[0m\u001b[0;34m\u001b[0m\u001b[0;34m\u001b[0m\u001b[0m\n\u001b[1;32m    945\u001b[0m                              (name, self.state,\n",
      "\u001b[0;31merror\u001b[0m: command SELECT illegal in state NONAUTH, only allowed in states AUTH, SELECTED"
     ]
    }
   ],
   "source": [
    "status, messages = imap.select(\"INBOX\") \n",
    "#Indicating number of top emails to fetch: \n",
    "N = 5 \n",
    "#Converting total number of emails in the inbox to integer value: \n",
    "messages = int(messages[0])"
   ]
  },
  {
   "cell_type": "code",
   "execution_count": 16,
   "metadata": {},
   "outputs": [
    {
     "ename": "NameError",
     "evalue": "name 'messages' is not defined",
     "output_type": "error",
     "traceback": [
      "\u001b[0;31m---------------------------------------------------------------------------\u001b[0m",
      "\u001b[0;31mNameError\u001b[0m                                 Traceback (most recent call last)",
      "\u001b[0;32m<ipython-input-16-0a61a3a8fb92>\u001b[0m in \u001b[0;36m<module>\u001b[0;34m\u001b[0m\n\u001b[0;32m----> 1\u001b[0;31m \u001b[0;32mfor\u001b[0m \u001b[0mi\u001b[0m \u001b[0;32min\u001b[0m \u001b[0mrange\u001b[0m\u001b[0;34m(\u001b[0m\u001b[0mmessages\u001b[0m\u001b[0;34m,\u001b[0m \u001b[0mmessages\u001b[0m\u001b[0;34m-\u001b[0m\u001b[0mN\u001b[0m\u001b[0;34m,\u001b[0m \u001b[0;34m-\u001b[0m\u001b[0;36m1\u001b[0m\u001b[0;34m)\u001b[0m\u001b[0;34m:\u001b[0m\u001b[0;34m\u001b[0m\u001b[0;34m\u001b[0m\u001b[0m\n\u001b[0m\u001b[1;32m      2\u001b[0m     \u001b[0;31m#First, we use the fetch method and RFC822 format as mentioned earlier:\u001b[0m\u001b[0;34m\u001b[0m\u001b[0;34m\u001b[0m\u001b[0;34m\u001b[0m\u001b[0m\n\u001b[1;32m      3\u001b[0m     \u001b[0mres\u001b[0m\u001b[0;34m,\u001b[0m \u001b[0mmsg\u001b[0m \u001b[0;34m=\u001b[0m \u001b[0mimap\u001b[0m\u001b[0;34m.\u001b[0m\u001b[0mfetch\u001b[0m\u001b[0;34m(\u001b[0m\u001b[0mstr\u001b[0m\u001b[0;34m(\u001b[0m\u001b[0mi\u001b[0m\u001b[0;34m)\u001b[0m\u001b[0;34m,\u001b[0m \u001b[0;34m\"(RFC822)\"\u001b[0m\u001b[0;34m)\u001b[0m\u001b[0;34m\u001b[0m\u001b[0;34m\u001b[0m\u001b[0m\n\u001b[1;32m      4\u001b[0m     \u001b[0;32mfor\u001b[0m \u001b[0mresponse\u001b[0m \u001b[0;32min\u001b[0m \u001b[0mmsg\u001b[0m\u001b[0;34m:\u001b[0m\u001b[0;34m\u001b[0m\u001b[0;34m\u001b[0m\u001b[0m\n\u001b[1;32m      5\u001b[0m         \u001b[0;32mif\u001b[0m \u001b[0misinstance\u001b[0m\u001b[0;34m(\u001b[0m\u001b[0mresponse\u001b[0m\u001b[0;34m,\u001b[0m \u001b[0mtuple\u001b[0m\u001b[0;34m)\u001b[0m\u001b[0;34m:\u001b[0m\u001b[0;34m\u001b[0m\u001b[0;34m\u001b[0m\u001b[0m\n",
      "\u001b[0;31mNameError\u001b[0m: name 'messages' is not defined"
     ]
    }
   ],
   "source": [
    "for i in range(messages, messages-N, -1): \n",
    "    #First, we use the fetch method and RFC822 format as mentioned earlier: \n",
    "    res, msg = imap.fetch(str(i), \"(RFC822)\") \n",
    "    for response in msg: \n",
    "        if isinstance(response, tuple): \n",
    "            #We then parse email in bytes format into a message object in Python: \n",
    "            msg = email.message_from_bytes(response[1]) \n",
    "            #We then decode the email subject:\n",
    "            subject, encoding = decode_header(msg[\"Subject\"])[0] \n",
    "            if isinstance(subject, bytes): \n",
    "                #If the subject is in bytes format, we convert to string: \n",
    "                subject = subject.decode(encoding)\n",
    "                \n",
    "            #After that, we decode email sender: \n",
    "            From, encoding = decode_header(msg.get(\"From\"))[0] \n",
    "            if isinstance(From, bytes): \n",
    "                From = From.decode(encoding) \n",
    "                \n",
    "            print(\"Subject:\", subject) \n",
    "            print(\"From:\", From) \n",
    "            \n",
    "            #If the email message is multipart, we convert each of the parts and process separately: \n",
    "            if msg.is_multipart(): \n",
    "                #Iterating over multi-part message: \n",
    "                for part in msg.walk(): \n",
    "                    #Extract the content type of the email part: \n",
    "                    content_type = part.get_content_type() \n",
    "                    content_disposition = str(part.get(\"Content-Disposition\")) \n",
    "                    \n",
    "                    try: \n",
    "                        #We then get the email body: \n",
    "                        body = part.get_payload(decode=True).decode()\n",
    "                    except: \n",
    "                        pass \n",
    "                    \n",
    "                    if content_type == \"text/plain\" and \"attachment\" not in content_disposition: \n",
    "                        # We print text part of the message and see the content: \n",
    "                        print(body) \n",
    "                    \n",
    "                    elif \"attachment\" in content_disposition: \n",
    "                        # We then download the attachment: \n",
    "                        filename = part.get_filename() \n",
    "                        if filename: \n",
    "                            folder_name = clean(subject) \n",
    "                            if not os.path.isdir(folder_name): \n",
    "                                # We create a folder for this downloaded email (using the subject as the label): \n",
    "                                os.mkdir(folder_name) \n",
    "                            \n",
    "                            filepath = os.path.join(folder_name, filename) \n",
    "                            # and then download attachment and save it: \n",
    "                            open(filepath, \"wb\").write(part.get_payload(decode=True)) \n",
    "                            \n",
    "                    else: \n",
    "                        # We extract content type of email: \n",
    "                        content_type = msg.get_content_type() \n",
    "                        # and get the email body:\n",
    "                        body = msg.get_payload(decode=True).decode() \n",
    "                        if content_type == \"text/plain\": \n",
    "                            #print only text part of the email: \n",
    "                            print(body) \n",
    "                            \n",
    "                    if content_type == \"text/html\": \n",
    "                        # If the content type is HTML, create a new HTML file and open it in browser: \n",
    "                        folder_name = clean(subject) \n",
    "                        if not os.path.isdir(folder_name): \n",
    "                            # make a folder for this email named after the subject of the email: \n",
    "                            os.mkdir(folder_name) \n",
    "                            filename = \"index.html\" \n",
    "                            filepath = os.path.join(folder_name, filename) \n",
    "                            # write the file to the folder: \n",
    "                            open(filepath, \"w\").write(body) \n",
    "                            # and then open the HTML file in the default browser: \n",
    "                            webbrowser.open(filepath) \n",
    "                        print(\"=\"*100) \n",
    "                            \n",
    "# Once done, we close the IMAP connection and logout. \n",
    "imap.close() \n",
    "imap.logout()"
   ]
  },
  {
   "cell_type": "code",
   "execution_count": null,
   "metadata": {},
   "outputs": [],
   "source": []
  }
 ],
 "metadata": {
  "kernelspec": {
   "display_name": "Python 3",
   "language": "python",
   "name": "python3"
  },
  "language_info": {
   "codemirror_mode": {
    "name": "ipython",
    "version": 3
   },
   "file_extension": ".py",
   "mimetype": "text/x-python",
   "name": "python",
   "nbconvert_exporter": "python",
   "pygments_lexer": "ipython3",
   "version": "3.8.3"
  }
 },
 "nbformat": 4,
 "nbformat_minor": 4
}
