{
 "cells": [
  {
   "cell_type": "code",
   "execution_count": 1,
   "metadata": {},
   "outputs": [],
   "source": [
    "import smtplib\n",
    "from email import encoders\n",
    "from email.mime.text import MIMEText \n",
    "from email.mime.multipart import MIMEMultipart \n",
    "from email.mime.base import MIMEBase \n",
    "from bs4 import BeautifulSoup as bs"
   ]
  },
  {
   "cell_type": "code",
   "execution_count": 2,
   "metadata": {},
   "outputs": [],
   "source": [
    "# Credentials \n",
    "EMAIL = \"myemail@test.com\"\n",
    "PASSWORD = \"mypassword\"\n",
    "\n",
    "FROM = \"sender@test.com\"\n",
    "TO = \"receiver@test.com\"\n",
    "SUBJECT = \"Subject of my email\""
   ]
  },
  {
   "cell_type": "code",
   "execution_count": 3,
   "metadata": {},
   "outputs": [],
   "source": [
    "# initialize our message object, so it is ready to send: \n",
    "msg = MIMEMultipart(\"alternative\")\n",
    "# Setting the ‘from’ property in the message to the FROM email address value we provided earlier: \n",
    "msg[\"From\"] = FROM\n",
    "# Setting the ‘to’ property in the message to the TO email address value we provided earlier:\n",
    "msg[\"To\"] = TO\n",
    "# Setting the ‘subject’ of the message to the SUBJECT value we provided earlier: \n",
    "msg[\"Subject\"] = SUBJECT"
   ]
  },
  {
   "cell_type": "code",
   "execution_count": 4,
   "metadata": {},
   "outputs": [],
   "source": [
    "# HTML version of the message: \n",
    "html = \"\"\" \n",
    "I love <b>Python </b>! \n",
    "\"\"\"\n",
    "\n",
    "#Now let's convert this HTML version to text using HTML parser object: \n",
    "text = bs(html, \"html.parser\").text"
   ]
  },
  {
   "cell_type": "code",
   "execution_count": 5,
   "metadata": {},
   "outputs": [],
   "source": [
    "html = open(\"message.html\").read()\n",
    "text = bs(html, \"html.parser\").text"
   ]
  },
  {
   "cell_type": "code",
   "execution_count": 6,
   "metadata": {},
   "outputs": [],
   "source": [
    "html = open(\"message.html\").read()\n",
    "#And then convert to text the same way as before using html parser:\n",
    "text = bs(html, \"html.parser\").text"
   ]
  },
  {
   "cell_type": "code",
   "execution_count": null,
   "metadata": {},
   "outputs": [],
   "source": []
  }
 ],
 "metadata": {
  "kernelspec": {
   "display_name": "Python 3",
   "language": "python",
   "name": "python3"
  },
  "language_info": {
   "codemirror_mode": {
    "name": "ipython",
    "version": 3
   },
   "file_extension": ".py",
   "mimetype": "text/x-python",
   "name": "python",
   "nbconvert_exporter": "python",
   "pygments_lexer": "ipython3",
   "version": "3.8.3"
  }
 },
 "nbformat": 4,
 "nbformat_minor": 4
}
